{
 "cells": [
  {
   "cell_type": "code",
   "execution_count": 8,
   "metadata": {},
   "outputs": [],
   "source": [
    "import cv2\n",
    "import matplotlib.pyplot as plt"
   ]
  },
  {
   "cell_type": "code",
   "execution_count": 22,
   "metadata": {},
   "outputs": [],
   "source": [
    "#Read the image from openCV library\n",
    "image = cv2.imread(\"pic.jpg\")\n",
    "\n",
    "#Split the image into its color channels\n",
    "channels = cv2.split(image)\n",
    "colors = (\"b\", \"g\", \"r\")\n",
    "\n",
    "# We are going to loop through the channels of the image\n",
    "for (channel, color) in zip(channels, colors):\n",
    "    #Calculate the histogram\n",
    "    hist = cv2.calcHist([channel], [0], None, [256], [0, 256])\n",
    "    # Plot the histogeam\n",
    "    plt.figure()\n",
    "    plt.title(f'{color.upper()} HISTOGRAM')\n",
    "    plt.xlabel(\"Bins\")\n",
    "    plt.ylabel(\"# of pixels\")\n",
    "    plt.plot(hist, color=color)\n",
    "    plt.show()"
   ]
  }
 ],
 "metadata": {
  "kernelspec": {
   "display_name": "venv",
   "language": "python",
   "name": "python3"
  },
  "language_info": {
   "codemirror_mode": {
    "name": "ipython",
    "version": 3
   },
   "file_extension": ".py",
   "mimetype": "text/x-python",
   "name": "python",
   "nbconvert_exporter": "python",
   "pygments_lexer": "ipython3",
   "version": "3.9.7"
  }
 },
 "nbformat": 4,
 "nbformat_minor": 2
}
