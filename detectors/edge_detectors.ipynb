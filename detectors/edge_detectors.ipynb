{
 "cells": [
  {
   "cell_type": "code",
   "execution_count": 2,
   "metadata": {},
   "outputs": [],
   "source": [
    "import cv2\n",
    "import numpy as np"
   ]
  },
  {
   "cell_type": "code",
   "execution_count": null,
   "metadata": {},
   "outputs": [],
   "source": [
    "image = cv2.imread(\"./pic.jpg\", cv2.IMREAD_GRAYSCALE)\n",
    "plt.imshow(image, cmap=\"gray\")\n",
    "plt.show()"
   ]
  },
  {
   "cell_type": "markdown",
   "metadata": {},
   "source": [
    "## We provide Kernels for operators"
   ]
  },
  {
   "cell_type": "code",
   "execution_count": 4,
   "metadata": {},
   "outputs": [],
   "source": [
    " # prewitt masks \n",
    "kernelx = np . array ( [[ 1 , 1 , 1 ], [ 0 , 0 , 0 ], [ -1 , -1 , -1 ]] ) \n",
    "kernely = np . array ( [[ -1 , 0 , 1 ], [ -1 , 0 , 1 ], [ -1 , 0 , 1 ]] )"
   ]
  },
  {
   "cell_type": "code",
   "execution_count": null,
   "metadata": {},
   "outputs": [],
   "source": [
    "imageprewittx = cv2.filter2D(src=image, ddepth=-1, kernel=kernelx)\n",
    "imageprewitty = cv2.filter2D(src=image, ddepth=-1, kernel=kernely)\n",
    "\n",
    "plt.figure(figsize=(10, 5))\n",
    "\n",
    "plt.subplot(1, 2, 1)\n",
    "plt.imshow(imageprewittx, cmap=\"gray\")\n",
    "plt.title(\"Prewitt X\")\n",
    "plt.subplot(1, 2, 2)\n",
    "plt.imshow(imageprewitty, cmap=\"gray\")\n",
    "plt.title(\"Prewitt Y\")\n",
    "plt.show()"
   ]
  }
 ],
 "metadata": {
  "kernelspec": {
   "display_name": "venv",
   "language": "python",
   "name": "python3"
  },
  "language_info": {
   "codemirror_mode": {
    "name": "ipython",
    "version": 3
   },
   "file_extension": ".py",
   "mimetype": "text/x-python",
   "name": "python",
   "nbconvert_exporter": "python",
   "pygments_lexer": "ipython3",
   "version": "3.9.7"
  }
 },
 "nbformat": 4,
 "nbformat_minor": 2
}
